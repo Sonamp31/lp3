{
 "cells": [
  {
   "cell_type": "code",
   "execution_count": 1,
   "id": "d8c3f348",
   "metadata": {},
   "outputs": [
    {
     "name": "stderr",
     "output_type": "stream",
     "text": [
      "C:\\Users\\Sonam\\anaconda3\\lib\\site-packages\\scipy\\__init__.py:146: UserWarning: A NumPy version >=1.16.5 and <1.23.0 is required for this version of SciPy (detected version 1.26.1\n",
      "  warnings.warn(f\"A NumPy version >={np_minversion} and <{np_maxversion}\"\n"
     ]
    }
   ],
   "source": [
    "import pandas as pd\n",
    "import numpy as np\n",
    "import seaborn as sns\n",
    "import matplotlib.pyplot as plt\n",
    "import pylab\n",
    "from sklearn.model_selection import train_test_split\n",
    "from sklearn import metrics\n",
    "from sklearn.ensemble import RandomForestRegressor\n",
    "from sklearn import metrics\n",
    "from sklearn import preprocessing "
   ]
  },
  {
   "cell_type": "code",
   "execution_count": 2,
   "id": "416ac796",
   "metadata": {},
   "outputs": [
    {
     "data": {
      "text/html": [
       "<div>\n",
       "<style scoped>\n",
       "    .dataframe tbody tr th:only-of-type {\n",
       "        vertical-align: middle;\n",
       "    }\n",
       "\n",
       "    .dataframe tbody tr th {\n",
       "        vertical-align: top;\n",
       "    }\n",
       "\n",
       "    .dataframe thead th {\n",
       "        text-align: right;\n",
       "    }\n",
       "</style>\n",
       "<table border=\"1\" class=\"dataframe\">\n",
       "  <thead>\n",
       "    <tr style=\"text-align: right;\">\n",
       "      <th></th>\n",
       "      <th>Unnamed: 0</th>\n",
       "      <th>fare_amount</th>\n",
       "      <th>pickup_longitude</th>\n",
       "      <th>pickup_latitude</th>\n",
       "      <th>dropoff_longitude</th>\n",
       "      <th>dropoff_latitude</th>\n",
       "      <th>passenger_count</th>\n",
       "    </tr>\n",
       "  </thead>\n",
       "  <tbody>\n",
       "    <tr>\n",
       "      <th>count</th>\n",
       "      <td>2.000000e+05</td>\n",
       "      <td>200000.000000</td>\n",
       "      <td>200000.000000</td>\n",
       "      <td>200000.000000</td>\n",
       "      <td>199999.000000</td>\n",
       "      <td>199999.000000</td>\n",
       "      <td>200000.000000</td>\n",
       "    </tr>\n",
       "    <tr>\n",
       "      <th>mean</th>\n",
       "      <td>2.771250e+07</td>\n",
       "      <td>11.359955</td>\n",
       "      <td>-72.527638</td>\n",
       "      <td>39.935885</td>\n",
       "      <td>-72.525292</td>\n",
       "      <td>39.923890</td>\n",
       "      <td>1.684535</td>\n",
       "    </tr>\n",
       "    <tr>\n",
       "      <th>std</th>\n",
       "      <td>1.601382e+07</td>\n",
       "      <td>9.901776</td>\n",
       "      <td>11.437787</td>\n",
       "      <td>7.720539</td>\n",
       "      <td>13.117408</td>\n",
       "      <td>6.794829</td>\n",
       "      <td>1.385997</td>\n",
       "    </tr>\n",
       "    <tr>\n",
       "      <th>min</th>\n",
       "      <td>1.000000e+00</td>\n",
       "      <td>-52.000000</td>\n",
       "      <td>-1340.648410</td>\n",
       "      <td>-74.015515</td>\n",
       "      <td>-3356.666300</td>\n",
       "      <td>-881.985513</td>\n",
       "      <td>0.000000</td>\n",
       "    </tr>\n",
       "    <tr>\n",
       "      <th>25%</th>\n",
       "      <td>1.382535e+07</td>\n",
       "      <td>6.000000</td>\n",
       "      <td>-73.992065</td>\n",
       "      <td>40.734796</td>\n",
       "      <td>-73.991407</td>\n",
       "      <td>40.733823</td>\n",
       "      <td>1.000000</td>\n",
       "    </tr>\n",
       "    <tr>\n",
       "      <th>50%</th>\n",
       "      <td>2.774550e+07</td>\n",
       "      <td>8.500000</td>\n",
       "      <td>-73.981823</td>\n",
       "      <td>40.752592</td>\n",
       "      <td>-73.980093</td>\n",
       "      <td>40.753042</td>\n",
       "      <td>1.000000</td>\n",
       "    </tr>\n",
       "    <tr>\n",
       "      <th>75%</th>\n",
       "      <td>4.155530e+07</td>\n",
       "      <td>12.500000</td>\n",
       "      <td>-73.967154</td>\n",
       "      <td>40.767158</td>\n",
       "      <td>-73.963658</td>\n",
       "      <td>40.768001</td>\n",
       "      <td>2.000000</td>\n",
       "    </tr>\n",
       "    <tr>\n",
       "      <th>max</th>\n",
       "      <td>5.542357e+07</td>\n",
       "      <td>499.000000</td>\n",
       "      <td>57.418457</td>\n",
       "      <td>1644.421482</td>\n",
       "      <td>1153.572603</td>\n",
       "      <td>872.697628</td>\n",
       "      <td>208.000000</td>\n",
       "    </tr>\n",
       "  </tbody>\n",
       "</table>\n",
       "</div>"
      ],
      "text/plain": [
       "         Unnamed: 0    fare_amount  pickup_longitude  pickup_latitude  \\\n",
       "count  2.000000e+05  200000.000000     200000.000000    200000.000000   \n",
       "mean   2.771250e+07      11.359955        -72.527638        39.935885   \n",
       "std    1.601382e+07       9.901776         11.437787         7.720539   \n",
       "min    1.000000e+00     -52.000000      -1340.648410       -74.015515   \n",
       "25%    1.382535e+07       6.000000        -73.992065        40.734796   \n",
       "50%    2.774550e+07       8.500000        -73.981823        40.752592   \n",
       "75%    4.155530e+07      12.500000        -73.967154        40.767158   \n",
       "max    5.542357e+07     499.000000         57.418457      1644.421482   \n",
       "\n",
       "       dropoff_longitude  dropoff_latitude  passenger_count  \n",
       "count      199999.000000     199999.000000    200000.000000  \n",
       "mean          -72.525292         39.923890         1.684535  \n",
       "std            13.117408          6.794829         1.385997  \n",
       "min         -3356.666300       -881.985513         0.000000  \n",
       "25%           -73.991407         40.733823         1.000000  \n",
       "50%           -73.980093         40.753042         1.000000  \n",
       "75%           -73.963658         40.768001         2.000000  \n",
       "max          1153.572603        872.697628       208.000000  "
      ]
     },
     "execution_count": 2,
     "metadata": {},
     "output_type": "execute_result"
    }
   ],
   "source": [
    "\n",
    "\n",
    "df = pd.read_csv('uber.csv')\n",
    "\n",
    "df.head()\n",
    "df.describe()\n"
   ]
  },
  {
   "cell_type": "code",
   "execution_count": 3,
   "id": "621d4022",
   "metadata": {},
   "outputs": [
    {
     "data": {
      "text/html": [
       "<div>\n",
       "<style scoped>\n",
       "    .dataframe tbody tr th:only-of-type {\n",
       "        vertical-align: middle;\n",
       "    }\n",
       "\n",
       "    .dataframe tbody tr th {\n",
       "        vertical-align: top;\n",
       "    }\n",
       "\n",
       "    .dataframe thead th {\n",
       "        text-align: right;\n",
       "    }\n",
       "</style>\n",
       "<table border=\"1\" class=\"dataframe\">\n",
       "  <thead>\n",
       "    <tr style=\"text-align: right;\">\n",
       "      <th></th>\n",
       "      <th>Unnamed: 0</th>\n",
       "      <th>key</th>\n",
       "      <th>fare_amount</th>\n",
       "      <th>pickup_datetime</th>\n",
       "      <th>pickup_longitude</th>\n",
       "      <th>pickup_latitude</th>\n",
       "      <th>dropoff_longitude</th>\n",
       "      <th>dropoff_latitude</th>\n",
       "      <th>passenger_count</th>\n",
       "    </tr>\n",
       "  </thead>\n",
       "  <tbody>\n",
       "    <tr>\n",
       "      <th>0</th>\n",
       "      <td>24238194</td>\n",
       "      <td>2015-05-07 19:52:06.0000003</td>\n",
       "      <td>7.5</td>\n",
       "      <td>2015-05-07 19:52:06 UTC</td>\n",
       "      <td>-73.999817</td>\n",
       "      <td>40.738354</td>\n",
       "      <td>-73.999512</td>\n",
       "      <td>40.723217</td>\n",
       "      <td>1</td>\n",
       "    </tr>\n",
       "    <tr>\n",
       "      <th>1</th>\n",
       "      <td>27835199</td>\n",
       "      <td>2009-07-17 20:04:56.0000002</td>\n",
       "      <td>7.7</td>\n",
       "      <td>2009-07-17 20:04:56 UTC</td>\n",
       "      <td>-73.994355</td>\n",
       "      <td>40.728225</td>\n",
       "      <td>-73.994710</td>\n",
       "      <td>40.750325</td>\n",
       "      <td>1</td>\n",
       "    </tr>\n",
       "    <tr>\n",
       "      <th>2</th>\n",
       "      <td>44984355</td>\n",
       "      <td>2009-08-24 21:45:00.00000061</td>\n",
       "      <td>12.9</td>\n",
       "      <td>2009-08-24 21:45:00 UTC</td>\n",
       "      <td>-74.005043</td>\n",
       "      <td>40.740770</td>\n",
       "      <td>-73.962565</td>\n",
       "      <td>40.772647</td>\n",
       "      <td>1</td>\n",
       "    </tr>\n",
       "    <tr>\n",
       "      <th>3</th>\n",
       "      <td>25894730</td>\n",
       "      <td>2009-06-26 08:22:21.0000001</td>\n",
       "      <td>5.3</td>\n",
       "      <td>2009-06-26 08:22:21 UTC</td>\n",
       "      <td>-73.976124</td>\n",
       "      <td>40.790844</td>\n",
       "      <td>-73.965316</td>\n",
       "      <td>40.803349</td>\n",
       "      <td>3</td>\n",
       "    </tr>\n",
       "    <tr>\n",
       "      <th>4</th>\n",
       "      <td>17610152</td>\n",
       "      <td>2014-08-28 17:47:00.000000188</td>\n",
       "      <td>16.0</td>\n",
       "      <td>2014-08-28 17:47:00 UTC</td>\n",
       "      <td>-73.925023</td>\n",
       "      <td>40.744085</td>\n",
       "      <td>-73.973082</td>\n",
       "      <td>40.761247</td>\n",
       "      <td>5</td>\n",
       "    </tr>\n",
       "    <tr>\n",
       "      <th>...</th>\n",
       "      <td>...</td>\n",
       "      <td>...</td>\n",
       "      <td>...</td>\n",
       "      <td>...</td>\n",
       "      <td>...</td>\n",
       "      <td>...</td>\n",
       "      <td>...</td>\n",
       "      <td>...</td>\n",
       "      <td>...</td>\n",
       "    </tr>\n",
       "    <tr>\n",
       "      <th>199995</th>\n",
       "      <td>42598914</td>\n",
       "      <td>2012-10-28 10:49:00.00000053</td>\n",
       "      <td>3.0</td>\n",
       "      <td>2012-10-28 10:49:00 UTC</td>\n",
       "      <td>-73.987042</td>\n",
       "      <td>40.739367</td>\n",
       "      <td>-73.986525</td>\n",
       "      <td>40.740297</td>\n",
       "      <td>1</td>\n",
       "    </tr>\n",
       "    <tr>\n",
       "      <th>199996</th>\n",
       "      <td>16382965</td>\n",
       "      <td>2014-03-14 01:09:00.0000008</td>\n",
       "      <td>7.5</td>\n",
       "      <td>2014-03-14 01:09:00 UTC</td>\n",
       "      <td>-73.984722</td>\n",
       "      <td>40.736837</td>\n",
       "      <td>-74.006672</td>\n",
       "      <td>40.739620</td>\n",
       "      <td>1</td>\n",
       "    </tr>\n",
       "    <tr>\n",
       "      <th>199997</th>\n",
       "      <td>27804658</td>\n",
       "      <td>2009-06-29 00:42:00.00000078</td>\n",
       "      <td>30.9</td>\n",
       "      <td>2009-06-29 00:42:00 UTC</td>\n",
       "      <td>-73.986017</td>\n",
       "      <td>40.756487</td>\n",
       "      <td>-73.858957</td>\n",
       "      <td>40.692588</td>\n",
       "      <td>2</td>\n",
       "    </tr>\n",
       "    <tr>\n",
       "      <th>199998</th>\n",
       "      <td>20259894</td>\n",
       "      <td>2015-05-20 14:56:25.0000004</td>\n",
       "      <td>14.5</td>\n",
       "      <td>2015-05-20 14:56:25 UTC</td>\n",
       "      <td>-73.997124</td>\n",
       "      <td>40.725452</td>\n",
       "      <td>-73.983215</td>\n",
       "      <td>40.695415</td>\n",
       "      <td>1</td>\n",
       "    </tr>\n",
       "    <tr>\n",
       "      <th>199999</th>\n",
       "      <td>11951496</td>\n",
       "      <td>2010-05-15 04:08:00.00000076</td>\n",
       "      <td>14.1</td>\n",
       "      <td>2010-05-15 04:08:00 UTC</td>\n",
       "      <td>-73.984395</td>\n",
       "      <td>40.720077</td>\n",
       "      <td>-73.985508</td>\n",
       "      <td>40.768793</td>\n",
       "      <td>1</td>\n",
       "    </tr>\n",
       "  </tbody>\n",
       "</table>\n",
       "<p>200000 rows × 9 columns</p>\n",
       "</div>"
      ],
      "text/plain": [
       "        Unnamed: 0                            key  fare_amount  \\\n",
       "0         24238194    2015-05-07 19:52:06.0000003          7.5   \n",
       "1         27835199    2009-07-17 20:04:56.0000002          7.7   \n",
       "2         44984355   2009-08-24 21:45:00.00000061         12.9   \n",
       "3         25894730    2009-06-26 08:22:21.0000001          5.3   \n",
       "4         17610152  2014-08-28 17:47:00.000000188         16.0   \n",
       "...            ...                            ...          ...   \n",
       "199995    42598914   2012-10-28 10:49:00.00000053          3.0   \n",
       "199996    16382965    2014-03-14 01:09:00.0000008          7.5   \n",
       "199997    27804658   2009-06-29 00:42:00.00000078         30.9   \n",
       "199998    20259894    2015-05-20 14:56:25.0000004         14.5   \n",
       "199999    11951496   2010-05-15 04:08:00.00000076         14.1   \n",
       "\n",
       "                pickup_datetime  pickup_longitude  pickup_latitude  \\\n",
       "0       2015-05-07 19:52:06 UTC        -73.999817        40.738354   \n",
       "1       2009-07-17 20:04:56 UTC        -73.994355        40.728225   \n",
       "2       2009-08-24 21:45:00 UTC        -74.005043        40.740770   \n",
       "3       2009-06-26 08:22:21 UTC        -73.976124        40.790844   \n",
       "4       2014-08-28 17:47:00 UTC        -73.925023        40.744085   \n",
       "...                         ...               ...              ...   \n",
       "199995  2012-10-28 10:49:00 UTC        -73.987042        40.739367   \n",
       "199996  2014-03-14 01:09:00 UTC        -73.984722        40.736837   \n",
       "199997  2009-06-29 00:42:00 UTC        -73.986017        40.756487   \n",
       "199998  2015-05-20 14:56:25 UTC        -73.997124        40.725452   \n",
       "199999  2010-05-15 04:08:00 UTC        -73.984395        40.720077   \n",
       "\n",
       "        dropoff_longitude  dropoff_latitude  passenger_count  \n",
       "0              -73.999512         40.723217                1  \n",
       "1              -73.994710         40.750325                1  \n",
       "2              -73.962565         40.772647                1  \n",
       "3              -73.965316         40.803349                3  \n",
       "4              -73.973082         40.761247                5  \n",
       "...                   ...               ...              ...  \n",
       "199995         -73.986525         40.740297                1  \n",
       "199996         -74.006672         40.739620                1  \n",
       "199997         -73.858957         40.692588                2  \n",
       "199998         -73.983215         40.695415                1  \n",
       "199999         -73.985508         40.768793                1  \n",
       "\n",
       "[200000 rows x 9 columns]"
      ]
     },
     "execution_count": 3,
     "metadata": {},
     "output_type": "execute_result"
    }
   ],
   "source": [
    "df"
   ]
  },
  {
   "cell_type": "code",
   "execution_count": 4,
   "id": "cd3e4364",
   "metadata": {},
   "outputs": [
    {
     "name": "stdout",
     "output_type": "stream",
     "text": [
      "<class 'pandas.core.frame.DataFrame'>\n",
      "RangeIndex: 200000 entries, 0 to 199999\n",
      "Data columns (total 9 columns):\n",
      " #   Column             Non-Null Count   Dtype  \n",
      "---  ------             --------------   -----  \n",
      " 0   Unnamed: 0         200000 non-null  int64  \n",
      " 1   key                200000 non-null  object \n",
      " 2   fare_amount        200000 non-null  float64\n",
      " 3   pickup_datetime    200000 non-null  object \n",
      " 4   pickup_longitude   200000 non-null  float64\n",
      " 5   pickup_latitude    200000 non-null  float64\n",
      " 6   dropoff_longitude  199999 non-null  float64\n",
      " 7   dropoff_latitude   199999 non-null  float64\n",
      " 8   passenger_count    200000 non-null  int64  \n",
      "dtypes: float64(5), int64(2), object(2)\n",
      "memory usage: 13.7+ MB\n"
     ]
    }
   ],
   "source": [
    "df.info()"
   ]
  },
  {
   "cell_type": "markdown",
   "id": "fd4001fb",
   "metadata": {},
   "source": [
    "cleaning"
   ]
  },
  {
   "cell_type": "code",
   "execution_count": null,
   "id": "6e82a043",
   "metadata": {},
   "outputs": [],
   "source": []
  },
  {
   "cell_type": "code",
   "execution_count": null,
   "id": "96dfcd7f",
   "metadata": {},
   "outputs": [],
   "source": []
  },
  {
   "cell_type": "code",
   "execution_count": 5,
   "id": "fed5656e",
   "metadata": {},
   "outputs": [
    {
     "data": {
      "text/plain": [
       "Unnamed: 0           0\n",
       "key                  0\n",
       "fare_amount          0\n",
       "pickup_datetime      0\n",
       "pickup_longitude     0\n",
       "pickup_latitude      0\n",
       "dropoff_longitude    1\n",
       "dropoff_latitude     1\n",
       "passenger_count      0\n",
       "dtype: int64"
      ]
     },
     "execution_count": 5,
     "metadata": {},
     "output_type": "execute_result"
    }
   ],
   "source": [
    "df.isna().sum()"
   ]
  },
  {
   "cell_type": "markdown",
   "id": "76ac9953",
   "metadata": {},
   "source": [
    "remove null rows "
   ]
  },
  {
   "cell_type": "code",
   "execution_count": 6,
   "id": "7f8cb44d",
   "metadata": {},
   "outputs": [],
   "source": [
    "df.dropna(axis=0,inplace=True)"
   ]
  },
  {
   "cell_type": "code",
   "execution_count": 7,
   "id": "cdfd29f2",
   "metadata": {},
   "outputs": [],
   "source": [
    "incorrect_coordinates = df.loc[\n",
    "(df.pickup_latitude > 90) |(df.pickup_latitude < -90) |\n",
    "(df.dropoff_latitude > 90) |(df.dropoff_latitude < -90) |\n",
    "(df.pickup_longitude > 180) |(df.pickup_longitude < -180) |\n",
    "(df.dropoff_longitude > 90) |(df.dropoff_longitude < -90)\n",
    "]\n",
    "df.drop(incorrect_coordinates, inplace = True, errors = 'ignore')\n"
   ]
  },
  {
   "cell_type": "code",
   "execution_count": 8,
   "id": "7c290df3",
   "metadata": {},
   "outputs": [],
   "source": [
    "def distance_transform(longitude1, latitude1, longitude2, latitude2):\n",
    "    long1, lati1, long2, lati2 = map(np.radians, [longitude1, latitude1, longitude2, latitude2])\n",
    "    dist_long = long2 - long1\n",
    "    dist_lati = lati2 - lati1\n",
    "    a = np.sin(dist_lati/2)**2 + np.cos(lati1) * np.cos(lati2) * np.sin(dist_long/2)**2\n",
    "    c = 2 * np.arcsin(np.sqrt(a)) * 6371\n",
    "    return c"
   ]
  },
  {
   "cell_type": "code",
   "execution_count": 9,
   "id": "7ca207ad",
   "metadata": {},
   "outputs": [],
   "source": [
    "df['Distance'] = distance_transform(\n",
    "df['pickup_longitude'],\n",
    "df['pickup_latitude'],\n",
    "df['dropoff_longitude'],\n",
    "df['dropoff_latitude']\n",
    ")"
   ]
  },
  {
   "cell_type": "code",
   "execution_count": 10,
   "id": "caaca2c2",
   "metadata": {},
   "outputs": [
    {
     "data": {
      "text/plain": [
       "Text(0, 0.5, 'fare_amount')"
      ]
     },
     "execution_count": 10,
     "metadata": {},
     "output_type": "execute_result"
    },
    {
     "data": {
      "image/png": "[encoded data removed]",
      "text/plain": [
       "<Figure size 432x288 with 1 Axes>"
      ]
     },
     "metadata": {
      "needs_background": "light"
     },
     "output_type": "display_data"
    }
   ],
   "source": [
    "plt.scatter(df['Distance'], df['fare_amount'])\n",
    "plt.xlabel(\"Distance\")\n",
    "plt.ylabel(\"fare_amount\")"
   ]
  },
  {
   "cell_type": "code",
   "execution_count": 11,
   "id": "c469d971",
   "metadata": {},
   "outputs": [],
   "source": [
    "df.drop(df[df['Distance'] >=60].index, inplace = True)\n",
    "df.drop(df[df['fare_amount']  <=0].index, inplace = True)\n",
    "df.drop(df[(df['fare_amount']>100) & (df['Distance']<1)].index, inplace = True )\n",
    "df.drop(df[(df['fare_amount']<100) & (df['Distance']>100)].index, inplace = True )\n"
   ]
  },
  {
   "cell_type": "code",
   "execution_count": 12,
   "id": "57933f3c",
   "metadata": {},
   "outputs": [
    {
     "name": "stdout",
     "output_type": "stream",
     "text": [
      "[[-0.39820843]\n",
      " [-0.37738556]\n",
      " [ 0.1640092 ]\n",
      " ...\n",
      " [ 2.03806797]\n",
      " [ 0.3305922 ]\n",
      " [ 0.28894645]]\n",
      "[[-0.43819769]\n",
      " [-0.22258873]\n",
      " [ 0.49552213]\n",
      " ...\n",
      " [ 2.67145829]\n",
      " [ 0.07874908]\n",
      " [ 0.60173174]]\n"
     ]
    },
    {
     "data": {
      "image/png": "[encoded data removed]",
      "text/plain": [
       "<Figure size 432x288 with 1 Axes>"
      ]
     },
     "metadata": {
      "needs_background": "light"
     },
     "output_type": "display_data"
    }
   ],
   "source": [
    "plt.scatter(df['Distance'], df['fare_amount'])\n",
    "plt.xlabel(\"Distance\")\n",
    "plt.ylabel(\"fare_amount\")\n",
    "\n",
    "X = df['Distance'].values.reshape(-1, 1)\n",
    "#Independent Variable\n",
    "y = df['fare_amount'].values.reshape(-1, 1)\n",
    "#Dependent VariableIn [ ]:\n",
    "from sklearn.preprocessing import StandardScaler\n",
    "std = StandardScaler()\n",
    "y_std = std.fit_transform(y)\n",
    "print(y_std)\n",
    "x_std = std.fit_transform(X)\n",
    "print(x_std)\n"
   ]
  },
  {
   "cell_type": "code",
   "execution_count": 13,
   "id": "8cb6e29e",
   "metadata": {},
   "outputs": [
    {
     "data": {
      "text/html": [
       "<style type=\"text/css\">\n",
       "#T_ea25d_row0_col0, #T_ea25d_row1_col1, #T_ea25d_row2_col2, #T_ea25d_row2_col4, #T_ea25d_row3_col3, #T_ea25d_row4_col2, #T_ea25d_row4_col4, #T_ea25d_row5_col5, #T_ea25d_row6_col6, #T_ea25d_row7_col7 {\n",
       "  background-color: #b40426;\n",
       "  color: #f1f1f1;\n",
       "}\n",
       "#T_ea25d_row0_col1, #T_ea25d_row3_col2, #T_ea25d_row3_col4 {\n",
       "  background-color: #3c4ec2;\n",
       "  color: #f1f1f1;\n",
       "}\n",
       "#T_ea25d_row0_col2, #T_ea25d_row0_col3, #T_ea25d_row0_col4, #T_ea25d_row0_col5, #T_ea25d_row1_col5, #T_ea25d_row6_col2, #T_ea25d_row6_col3, #T_ea25d_row6_col4, #T_ea25d_row6_col5 {\n",
       "  background-color: #dbdcde;\n",
       "  color: #000000;\n",
       "}\n",
       "#T_ea25d_row0_col6, #T_ea25d_row1_col0, #T_ea25d_row2_col0, #T_ea25d_row2_col3, #T_ea25d_row2_col5, #T_ea25d_row2_col6, #T_ea25d_row2_col7, #T_ea25d_row3_col0, #T_ea25d_row3_col1, #T_ea25d_row3_col6, #T_ea25d_row4_col0, #T_ea25d_row4_col3, #T_ea25d_row4_col5, #T_ea25d_row4_col6, #T_ea25d_row4_col7, #T_ea25d_row5_col0, #T_ea25d_row5_col1, #T_ea25d_row5_col2, #T_ea25d_row5_col4, #T_ea25d_row5_col6, #T_ea25d_row6_col0, #T_ea25d_row7_col0 {\n",
       "  background-color: #3b4cc0;\n",
       "  color: #f1f1f1;\n",
       "}\n",
       "#T_ea25d_row0_col7 {\n",
       "  background-color: #5a78e4;\n",
       "  color: #f1f1f1;\n",
       "}\n",
       "#T_ea25d_row1_col2, #T_ea25d_row1_col4 {\n",
       "  background-color: #dcdddd;\n",
       "  color: #000000;\n",
       "}\n",
       "#T_ea25d_row1_col3 {\n",
       "  background-color: #dadce0;\n",
       "  color: #000000;\n",
       "}\n",
       "#T_ea25d_row1_col6, #T_ea25d_row2_col1 {\n",
       "  background-color: #3e51c5;\n",
       "  color: #f1f1f1;\n",
       "}\n",
       "#T_ea25d_row1_col7 {\n",
       "  background-color: #de614d;\n",
       "  color: #f1f1f1;\n",
       "}\n",
       "#T_ea25d_row3_col5, #T_ea25d_row5_col3 {\n",
       "  background-color: #b50927;\n",
       "  color: #f1f1f1;\n",
       "}\n",
       "#T_ea25d_row3_col7 {\n",
       "  background-color: #7da0f9;\n",
       "  color: #f1f1f1;\n",
       "}\n",
       "#T_ea25d_row4_col1, #T_ea25d_row7_col6 {\n",
       "  background-color: #3d50c3;\n",
       "  color: #f1f1f1;\n",
       "}\n",
       "#T_ea25d_row5_col7 {\n",
       "  background-color: #7b9ff9;\n",
       "  color: #f1f1f1;\n",
       "}\n",
       "#T_ea25d_row6_col1 {\n",
       "  background-color: #3f53c6;\n",
       "  color: #f1f1f1;\n",
       "}\n",
       "#T_ea25d_row6_col7 {\n",
       "  background-color: #5d7ce6;\n",
       "  color: #f1f1f1;\n",
       "}\n",
       "#T_ea25d_row7_col1 {\n",
       "  background-color: #e26952;\n",
       "  color: #f1f1f1;\n",
       "}\n",
       "#T_ea25d_row7_col2, #T_ea25d_row7_col4 {\n",
       "  background-color: #cbd8ee;\n",
       "  color: #000000;\n",
       "}\n",
       "#T_ea25d_row7_col3, #T_ea25d_row7_col5 {\n",
       "  background-color: #e9d5cb;\n",
       "  color: #000000;\n",
       "}\n",
       "</style>\n",
       "<table id=\"T_ea25d_\">\n",
       "  <thead>\n",
       "    <tr>\n",
       "      <th class=\"blank level0\" >&nbsp;</th>\n",
       "      <th class=\"col_heading level0 col0\" >Unnamed: 0</th>\n",
       "      <th class=\"col_heading level0 col1\" >fare_amount</th>\n",
       "      <th class=\"col_heading level0 col2\" >pickup_longitude</th>\n",
       "      <th class=\"col_heading level0 col3\" >pickup_latitude</th>\n",
       "      <th class=\"col_heading level0 col4\" >dropoff_longitude</th>\n",
       "      <th class=\"col_heading level0 col5\" >dropoff_latitude</th>\n",
       "      <th class=\"col_heading level0 col6\" >passenger_count</th>\n",
       "      <th class=\"col_heading level0 col7\" >Distance</th>\n",
       "    </tr>\n",
       "  </thead>\n",
       "  <tbody>\n",
       "    <tr>\n",
       "      <th id=\"T_ea25d_level0_row0\" class=\"row_heading level0 row0\" >Unnamed: 0</th>\n",
       "      <td id=\"T_ea25d_row0_col0\" class=\"data row0 col0\" >1.000000</td>\n",
       "      <td id=\"T_ea25d_row0_col1\" class=\"data row0 col1\" >0.000431</td>\n",
       "      <td id=\"T_ea25d_row0_col2\" class=\"data row0 col2\" >0.000324</td>\n",
       "      <td id=\"T_ea25d_row0_col3\" class=\"data row0 col3\" >-0.000725</td>\n",
       "      <td id=\"T_ea25d_row0_col4\" class=\"data row0 col4\" >0.000337</td>\n",
       "      <td id=\"T_ea25d_row0_col5\" class=\"data row0 col5\" >-0.000269</td>\n",
       "      <td id=\"T_ea25d_row0_col6\" class=\"data row0 col6\" >0.002159</td>\n",
       "      <td id=\"T_ea25d_row0_col7\" class=\"data row0 col7\" >-0.000900</td>\n",
       "    </tr>\n",
       "    <tr>\n",
       "      <th id=\"T_ea25d_level0_row1\" class=\"row_heading level0 row1\" >fare_amount</th>\n",
       "      <td id=\"T_ea25d_row1_col0\" class=\"data row1 col0\" >0.000431</td>\n",
       "      <td id=\"T_ea25d_row1_col1\" class=\"data row1 col1\" >1.000000</td>\n",
       "      <td id=\"T_ea25d_row1_col2\" class=\"data row1 col2\" >0.005885</td>\n",
       "      <td id=\"T_ea25d_row1_col3\" class=\"data row1 col3\" >-0.006253</td>\n",
       "      <td id=\"T_ea25d_row1_col4\" class=\"data row1 col4\" >0.005501</td>\n",
       "      <td id=\"T_ea25d_row1_col5\" class=\"data row1 col5\" >-0.006142</td>\n",
       "      <td id=\"T_ea25d_row1_col6\" class=\"data row1 col6\" >0.011693</td>\n",
       "      <td id=\"T_ea25d_row1_col7\" class=\"data row1 col7\" >0.857729</td>\n",
       "    </tr>\n",
       "    <tr>\n",
       "      <th id=\"T_ea25d_level0_row2\" class=\"row_heading level0 row2\" >pickup_longitude</th>\n",
       "      <td id=\"T_ea25d_row2_col0\" class=\"data row2 col0\" >0.000324</td>\n",
       "      <td id=\"T_ea25d_row2_col1\" class=\"data row2 col1\" >0.005885</td>\n",
       "      <td id=\"T_ea25d_row2_col2\" class=\"data row2 col2\" >1.000000</td>\n",
       "      <td id=\"T_ea25d_row2_col3\" class=\"data row2 col3\" >-0.973204</td>\n",
       "      <td id=\"T_ea25d_row2_col4\" class=\"data row2 col4\" >0.999992</td>\n",
       "      <td id=\"T_ea25d_row2_col5\" class=\"data row2 col5\" >-0.981941</td>\n",
       "      <td id=\"T_ea25d_row2_col6\" class=\"data row2 col6\" >-0.000649</td>\n",
       "      <td id=\"T_ea25d_row2_col7\" class=\"data row2 col7\" >-0.117044</td>\n",
       "    </tr>\n",
       "    <tr>\n",
       "      <th id=\"T_ea25d_level0_row3\" class=\"row_heading level0 row3\" >pickup_latitude</th>\n",
       "      <td id=\"T_ea25d_row3_col0\" class=\"data row3 col0\" >-0.000725</td>\n",
       "      <td id=\"T_ea25d_row3_col1\" class=\"data row3 col1\" >-0.006253</td>\n",
       "      <td id=\"T_ea25d_row3_col2\" class=\"data row3 col2\" >-0.973204</td>\n",
       "      <td id=\"T_ea25d_row3_col3\" class=\"data row3 col3\" >1.000000</td>\n",
       "      <td id=\"T_ea25d_row3_col4\" class=\"data row3 col4\" >-0.973206</td>\n",
       "      <td id=\"T_ea25d_row3_col5\" class=\"data row3 col5\" >0.991076</td>\n",
       "      <td id=\"T_ea25d_row3_col6\" class=\"data row3 col6\" >-0.001190</td>\n",
       "      <td id=\"T_ea25d_row3_col7\" class=\"data row3 col7\" >0.110843</td>\n",
       "    </tr>\n",
       "    <tr>\n",
       "      <th id=\"T_ea25d_level0_row4\" class=\"row_heading level0 row4\" >dropoff_longitude</th>\n",
       "      <td id=\"T_ea25d_row4_col0\" class=\"data row4 col0\" >0.000337</td>\n",
       "      <td id=\"T_ea25d_row4_col1\" class=\"data row4 col1\" >0.005501</td>\n",
       "      <td id=\"T_ea25d_row4_col2\" class=\"data row4 col2\" >0.999992</td>\n",
       "      <td id=\"T_ea25d_row4_col3\" class=\"data row4 col3\" >-0.973206</td>\n",
       "      <td id=\"T_ea25d_row4_col4\" class=\"data row4 col4\" >1.000000</td>\n",
       "      <td id=\"T_ea25d_row4_col5\" class=\"data row4 col5\" >-0.981942</td>\n",
       "      <td id=\"T_ea25d_row4_col6\" class=\"data row4 col6\" >-0.000650</td>\n",
       "      <td id=\"T_ea25d_row4_col7\" class=\"data row4 col7\" >-0.117282</td>\n",
       "    </tr>\n",
       "    <tr>\n",
       "      <th id=\"T_ea25d_level0_row5\" class=\"row_heading level0 row5\" >dropoff_latitude</th>\n",
       "      <td id=\"T_ea25d_row5_col0\" class=\"data row5 col0\" >-0.000269</td>\n",
       "      <td id=\"T_ea25d_row5_col1\" class=\"data row5 col1\" >-0.006142</td>\n",
       "      <td id=\"T_ea25d_row5_col2\" class=\"data row5 col2\" >-0.981941</td>\n",
       "      <td id=\"T_ea25d_row5_col3\" class=\"data row5 col3\" >0.991076</td>\n",
       "      <td id=\"T_ea25d_row5_col4\" class=\"data row5 col4\" >-0.981942</td>\n",
       "      <td id=\"T_ea25d_row5_col5\" class=\"data row5 col5\" >1.000000</td>\n",
       "      <td id=\"T_ea25d_row5_col6\" class=\"data row5 col6\" >-0.001035</td>\n",
       "      <td id=\"T_ea25d_row5_col7\" class=\"data row5 col7\" >0.109486</td>\n",
       "    </tr>\n",
       "    <tr>\n",
       "      <th id=\"T_ea25d_level0_row6\" class=\"row_heading level0 row6\" >passenger_count</th>\n",
       "      <td id=\"T_ea25d_row6_col0\" class=\"data row6 col0\" >0.002159</td>\n",
       "      <td id=\"T_ea25d_row6_col1\" class=\"data row6 col1\" >0.011693</td>\n",
       "      <td id=\"T_ea25d_row6_col2\" class=\"data row6 col2\" >-0.000649</td>\n",
       "      <td id=\"T_ea25d_row6_col3\" class=\"data row6 col3\" >-0.001190</td>\n",
       "      <td id=\"T_ea25d_row6_col4\" class=\"data row6 col4\" >-0.000650</td>\n",
       "      <td id=\"T_ea25d_row6_col5\" class=\"data row6 col5\" >-0.001035</td>\n",
       "      <td id=\"T_ea25d_row6_col6\" class=\"data row6 col6\" >1.000000</td>\n",
       "      <td id=\"T_ea25d_row6_col7\" class=\"data row6 col7\" >0.007784</td>\n",
       "    </tr>\n",
       "    <tr>\n",
       "      <th id=\"T_ea25d_level0_row7\" class=\"row_heading level0 row7\" >Distance</th>\n",
       "      <td id=\"T_ea25d_row7_col0\" class=\"data row7 col0\" >-0.000900</td>\n",
       "      <td id=\"T_ea25d_row7_col1\" class=\"data row7 col1\" >0.857729</td>\n",
       "      <td id=\"T_ea25d_row7_col2\" class=\"data row7 col2\" >-0.117044</td>\n",
       "      <td id=\"T_ea25d_row7_col3\" class=\"data row7 col3\" >0.110843</td>\n",
       "      <td id=\"T_ea25d_row7_col4\" class=\"data row7 col4\" >-0.117282</td>\n",
       "      <td id=\"T_ea25d_row7_col5\" class=\"data row7 col5\" >0.109486</td>\n",
       "      <td id=\"T_ea25d_row7_col6\" class=\"data row7 col6\" >0.007784</td>\n",
       "      <td id=\"T_ea25d_row7_col7\" class=\"data row7 col7\" >1.000000</td>\n",
       "    </tr>\n",
       "  </tbody>\n",
       "</table>\n"
      ],
      "text/plain": [
       "<pandas.io.formats.style.Styler at 0x147f4c65580>"
      ]
     },
     "execution_count": 13,
     "metadata": {},
     "output_type": "execute_result"
    }
   ],
   "source": [
    "corr = df.corr()\n",
    "corr.style.background_gradient(cmap='coolwarm')"
   ]
  },
  {
   "cell_type": "markdown",
   "id": "1a0aa8b8",
   "metadata": {},
   "source": [
    "Standardization"
   ]
  },
  {
   "cell_type": "code",
   "execution_count": 14,
   "id": "b427963b",
   "metadata": {},
   "outputs": [
    {
     "name": "stdout",
     "output_type": "stream",
     "text": [
      "[[-0.39820843]\n",
      " [-0.37738556]\n",
      " [ 0.1640092 ]\n",
      " ...\n",
      " [ 2.03806797]\n",
      " [ 0.3305922 ]\n",
      " [ 0.28894645]]\n",
      "[[-0.43819769]\n",
      " [-0.22258873]\n",
      " [ 0.49552213]\n",
      " ...\n",
      " [ 2.67145829]\n",
      " [ 0.07874908]\n",
      " [ 0.60173174]]\n"
     ]
    }
   ],
   "source": [
    "X = df['Distance'].values.reshape(-1, 1)#RESHAPE FOR SINGLE SAMPLE\n",
    "#Independent Variable\n",
    "y = df['fare_amount'].values.reshape(-1, 1)\n",
    "#Dependent VariableIn [ ]:\n",
    "from sklearn.preprocessing import StandardScaler\n",
    "std = StandardScaler()\n",
    "y_std = std.fit_transform(y)\n",
    "print(y_std)\n",
    "x_std = std.fit_transform(X)\n",
    "print(x_std)\n"
   ]
  },
  {
   "cell_type": "markdown",
   "id": "fdaec32b",
   "metadata": {},
   "source": [
    "Training and Test Set\n",
    "\n"
   ]
  },
  {
   "cell_type": "code",
   "execution_count": 15,
   "id": "4daed787",
   "metadata": {},
   "outputs": [
    {
     "name": "stdout",
     "output_type": "stream",
     "text": [
      "Training set score: 0.74\n",
      "Test set score: 0.7340468\n"
     ]
    }
   ],
   "source": [
    "\n",
    "from sklearn.model_selection import train_test_split\n",
    "X_train, X_test, y_train, y_test = train_test_split(x_std, y_std, test_size=0.2, random_state=0)\n",
    "from sklearn.linear_model import LinearRegression\n",
    "l_reg = LinearRegression()\n",
    "l_reg.fit(X_train, y_train)\n",
    "print(\"Training set score: {:.2f}\".format(l_reg.score(X_train, y_train)))\n",
    "print(\"Test set score: {:.7f}\".format(l_reg.score(X_test, y_test)))"
   ]
  },
  {
   "cell_type": "code",
   "execution_count": 16,
   "id": "0f28b296",
   "metadata": {},
   "outputs": [
    {
     "data": {
      "text/html": [
       "<div>\n",
       "<style scoped>\n",
       "    .dataframe tbody tr th:only-of-type {\n",
       "        vertical-align: middle;\n",
       "    }\n",
       "\n",
       "    .dataframe tbody tr th {\n",
       "        vertical-align: top;\n",
       "    }\n",
       "\n",
       "    .dataframe thead th {\n",
       "        text-align: right;\n",
       "    }\n",
       "</style>\n",
       "<table border=\"1\" class=\"dataframe\">\n",
       "  <thead>\n",
       "    <tr style=\"text-align: right;\">\n",
       "      <th></th>\n",
       "      <th>Actual</th>\n",
       "      <th>Predicted</th>\n",
       "    </tr>\n",
       "  </thead>\n",
       "  <tbody>\n",
       "    <tr>\n",
       "      <th>21766</th>\n",
       "      <td>-0.252448</td>\n",
       "      <td>0.094502</td>\n",
       "    </tr>\n",
       "    <tr>\n",
       "      <th>25344</th>\n",
       "      <td>1.163507</td>\n",
       "      <td>0.797015</td>\n",
       "    </tr>\n",
       "    <tr>\n",
       "      <th>6656</th>\n",
       "      <td>0.590878</td>\n",
       "      <td>0.795736</td>\n",
       "    </tr>\n",
       "    <tr>\n",
       "      <th>20815</th>\n",
       "      <td>-0.450266</td>\n",
       "      <td>-0.516028</td>\n",
       "    </tr>\n",
       "    <tr>\n",
       "      <th>9847</th>\n",
       "      <td>-0.502323</td>\n",
       "      <td>0.456387</td>\n",
       "    </tr>\n",
       "    <tr>\n",
       "      <th>15241</th>\n",
       "      <td>0.434707</td>\n",
       "      <td>0.238753</td>\n",
       "    </tr>\n",
       "    <tr>\n",
       "      <th>38399</th>\n",
       "      <td>0.205655</td>\n",
       "      <td>0.180392</td>\n",
       "    </tr>\n",
       "    <tr>\n",
       "      <th>32986</th>\n",
       "      <td>0.164009</td>\n",
       "      <td>0.136445</td>\n",
       "    </tr>\n",
       "    <tr>\n",
       "      <th>8392</th>\n",
       "      <td>-0.169157</td>\n",
       "      <td>-0.347166</td>\n",
       "    </tr>\n",
       "    <tr>\n",
       "      <th>24904</th>\n",
       "      <td>-0.502323</td>\n",
       "      <td>-0.508377</td>\n",
       "    </tr>\n",
       "  </tbody>\n",
       "</table>\n",
       "</div>"
      ],
      "text/plain": [
       "         Actual  Predicted\n",
       "21766 -0.252448   0.094502\n",
       "25344  1.163507   0.797015\n",
       "6656   0.590878   0.795736\n",
       "20815 -0.450266  -0.516028\n",
       "9847  -0.502323   0.456387\n",
       "15241  0.434707   0.238753\n",
       "38399  0.205655   0.180392\n",
       "32986  0.164009   0.136445\n",
       "8392  -0.169157  -0.347166\n",
       "24904 -0.502323  -0.508377"
      ]
     },
     "execution_count": 16,
     "metadata": {},
     "output_type": "execute_result"
    }
   ],
   "source": [
    "y_pred = l_reg.predict(X_test)\n",
    "result = pd.DataFrame()\n",
    "result[['Actual']] = y_test\n",
    "result[['Predicted']] = y_pred\n",
    "result.sample(10)"
   ]
  },
  {
   "cell_type": "code",
   "execution_count": 17,
   "id": "71aa9172",
   "metadata": {},
   "outputs": [
    {
     "name": "stdout",
     "output_type": "stream",
     "text": [
      "Mean Absolute Error: 0.26621298757938955\n",
      "Mean Absolute % Error: 1.9830747633407393\n",
      "Mean Squared Error: 0.27052435107785416\n",
      "Root Mean Squared Error: 0.5201195546005304\n",
      "R Squared (R²): 0.8567653080822022\n"
     ]
    }
   ],
   "source": [
    "print('Mean Absolute Error:', metrics.mean_absolute_error(y_test, y_pred))\n",
    "print('Mean Absolute % Error:', metrics.mean_absolute_percentage_error(y_test, y_pred))\n",
    "print('Mean Squared Error:', metrics.mean_squared_error(y_test, y_pred))\n",
    "print('Root Mean Squared Error:', np.sqrt(metrics.mean_squared_error(y_test, y_pred)))\n",
    "print('R Squared (R²):', np.sqrt(metrics.r2_score(y_test, y_pred)))\n"
   ]
  },
  {
   "cell_type": "code",
   "execution_count": 18,
   "id": "aeaf8ac4",
   "metadata": {},
   "outputs": [
    {
     "data": {
      "image/png": "[encoded data removed]",
      "text/plain": [
       "<Figure size 432x288 with 2 Axes>"
      ]
     },
     "metadata": {
      "needs_background": "light"
     },
     "output_type": "display_data"
    }
   ],
   "source": [
    "plt.subplot(2, 2, 1)\n",
    "plt.scatter(X_train, y_train, color = 'red')\n",
    "plt.plot(X_train, l_reg.predict(X_train), color =\"blue\")\n",
    "plt.title(\"Fare vs Distance (Training Set)\")\n",
    "plt.ylabel(\"fare_amount\")\n",
    "plt.xlabel(\"Distance\")\n",
    "plt.subplot(2, 2, 2)\n",
    "plt.scatter(X_test, y_test, color = 'red')\n",
    "plt.plot(X_train, l_reg.predict(X_train), color =\"blue\")\n",
    "plt.ylabel(\"fare_amount\")\n",
    "plt.xlabel(\"Distance\")\n",
    "plt.title(\"Fare vs Distance (Test Set)\")\n",
    "plt.tight_layout()\n",
    "plt.show()"
   ]
  },
  {
   "cell_type": "code",
   "execution_count": 19,
   "id": "84dedc92",
   "metadata": {},
   "outputs": [],
   "source": [
    "\n",
    "cols = ['Model', 'RMSE', 'R-Squared']\n",
    "# create a empty dataframe of the colums\n",
    "# columns: specifies the columns to be selected\n",
    "result_tabulation = pd.DataFrame(columns = cols)\n",
    "# compile the required information\n",
    "linreg_metrics = pd.DataFrame([[\n",
    "\"Linear Regresion model\",\n",
    "np.sqrt(metrics.mean_squared_error(y_test, y_pred)),\n",
    "np.sqrt(metrics.r2_score(y_test, y_pred))\n",
    "]], columns = cols)\n",
    "result_tabulation = pd.concat([result_tabulation, linreg_metrics], ignore_index=True)\n",
    "\n"
   ]
  },
  {
   "cell_type": "code",
   "execution_count": 20,
   "id": "3d934c83",
   "metadata": {},
   "outputs": [
    {
     "data": {
      "text/html": [
       "<div>\n",
       "<style scoped>\n",
       "    .dataframe tbody tr th:only-of-type {\n",
       "        vertical-align: middle;\n",
       "    }\n",
       "\n",
       "    .dataframe tbody tr th {\n",
       "        vertical-align: top;\n",
       "    }\n",
       "\n",
       "    .dataframe thead th {\n",
       "        text-align: right;\n",
       "    }\n",
       "</style>\n",
       "<table border=\"1\" class=\"dataframe\">\n",
       "  <thead>\n",
       "    <tr style=\"text-align: right;\">\n",
       "      <th></th>\n",
       "      <th>Model</th>\n",
       "      <th>RMSE</th>\n",
       "      <th>R-Squared</th>\n",
       "    </tr>\n",
       "  </thead>\n",
       "  <tbody>\n",
       "    <tr>\n",
       "      <th>0</th>\n",
       "      <td>Linear Regresion model</td>\n",
       "      <td>0.52012</td>\n",
       "      <td>0.856765</td>\n",
       "    </tr>\n",
       "  </tbody>\n",
       "</table>\n",
       "</div>"
      ],
      "text/plain": [
       "                    Model     RMSE  R-Squared\n",
       "0  Linear Regresion model  0.52012   0.856765"
      ]
     },
     "execution_count": 20,
     "metadata": {},
     "output_type": "execute_result"
    }
   ],
   "source": [
    "result_tabulation"
   ]
  },
  {
   "cell_type": "code",
   "execution_count": 21,
   "id": "85bda739",
   "metadata": {},
   "outputs": [
    {
     "name": "stderr",
     "output_type": "stream",
     "text": [
      "C:\\Users\\Sonam\\AppData\\Local\\Temp/ipykernel_2628/3010055642.py:3: DataConversionWarning: A column-vector y was passed when a 1d array was expected. Please change the shape of y to (n_samples,), for example using ravel().\n",
      "  rf_reg.fit(X_train, y_train)\n"
     ]
    },
    {
     "data": {
      "text/plain": [
       "RandomForestRegressor(random_state=10)"
      ]
     },
     "execution_count": 21,
     "metadata": {},
     "output_type": "execute_result"
    }
   ],
   "source": [
    "rf_reg = RandomForestRegressor(n_estimators=100, random_state=10)\n",
    "# fit the regressor with training dataset\n",
    "rf_reg.fit(X_train, y_train)"
   ]
  },
  {
   "cell_type": "code",
   "execution_count": 22,
   "id": "c1e9f7ba",
   "metadata": {},
   "outputs": [
    {
     "data": {
      "text/html": [
       "<div>\n",
       "<style scoped>\n",
       "    .dataframe tbody tr th:only-of-type {\n",
       "        vertical-align: middle;\n",
       "    }\n",
       "\n",
       "    .dataframe tbody tr th {\n",
       "        vertical-align: top;\n",
       "    }\n",
       "\n",
       "    .dataframe thead th {\n",
       "        text-align: right;\n",
       "    }\n",
       "</style>\n",
       "<table border=\"1\" class=\"dataframe\">\n",
       "  <thead>\n",
       "    <tr style=\"text-align: right;\">\n",
       "      <th></th>\n",
       "      <th>Actual</th>\n",
       "      <th>Predicted</th>\n",
       "    </tr>\n",
       "  </thead>\n",
       "  <tbody>\n",
       "    <tr>\n",
       "      <th>23848</th>\n",
       "      <td>-0.002574</td>\n",
       "      <td>-0.085657</td>\n",
       "    </tr>\n",
       "    <tr>\n",
       "      <th>14210</th>\n",
       "      <td>-0.460677</td>\n",
       "      <td>0.696054</td>\n",
       "    </tr>\n",
       "    <tr>\n",
       "      <th>4021</th>\n",
       "      <td>-0.398208</td>\n",
       "      <td>-0.393836</td>\n",
       "    </tr>\n",
       "    <tr>\n",
       "      <th>37883</th>\n",
       "      <td>0.164009</td>\n",
       "      <td>0.431063</td>\n",
       "    </tr>\n",
       "    <tr>\n",
       "      <th>28166</th>\n",
       "      <td>-0.450266</td>\n",
       "      <td>-0.499512</td>\n",
       "    </tr>\n",
       "    <tr>\n",
       "      <th>692</th>\n",
       "      <td>1.215564</td>\n",
       "      <td>0.809414</td>\n",
       "    </tr>\n",
       "    <tr>\n",
       "      <th>29987</th>\n",
       "      <td>-0.460677</td>\n",
       "      <td>0.030847</td>\n",
       "    </tr>\n",
       "    <tr>\n",
       "      <th>9858</th>\n",
       "      <td>-0.543969</td>\n",
       "      <td>0.081655</td>\n",
       "    </tr>\n",
       "    <tr>\n",
       "      <th>17540</th>\n",
       "      <td>-0.793843</td>\n",
       "      <td>-0.750011</td>\n",
       "    </tr>\n",
       "    <tr>\n",
       "      <th>24962</th>\n",
       "      <td>-0.668906</td>\n",
       "      <td>-0.581762</td>\n",
       "    </tr>\n",
       "  </tbody>\n",
       "</table>\n",
       "</div>"
      ],
      "text/plain": [
       "         Actual  Predicted\n",
       "23848 -0.002574  -0.085657\n",
       "14210 -0.460677   0.696054\n",
       "4021  -0.398208  -0.393836\n",
       "37883  0.164009   0.431063\n",
       "28166 -0.450266  -0.499512\n",
       "692    1.215564   0.809414\n",
       "29987 -0.460677   0.030847\n",
       "9858  -0.543969   0.081655\n",
       "17540 -0.793843  -0.750011\n",
       "24962 -0.668906  -0.581762"
      ]
     },
     "execution_count": 22,
     "metadata": {},
     "output_type": "execute_result"
    }
   ],
   "source": [
    "# predict the values on test dataset using predict()\n",
    "y_pred_RF = rf_reg.predict(X_test)\n",
    "result = pd.DataFrame()\n",
    "result[['Actual']] = y_test\n",
    "result['Predicted'] = y_pred_RF\n",
    "result.sample(10)\n"
   ]
  },
  {
   "cell_type": "code",
   "execution_count": 23,
   "id": "a5ca12aa",
   "metadata": {},
   "outputs": [
    {
     "name": "stdout",
     "output_type": "stream",
     "text": [
      "Mean Absolute Error: 0.3077087698385678\n",
      "Mean Absolute % Error: 2.161623761570947\n",
      "Mean Squared Error: 0.33297733033643484\n",
      "Root Mean Squared Error: 0.5770418791876677\n",
      "R Squared (R²): 0.8201518783882692\n"
     ]
    }
   ],
   "source": [
    "\n",
    "print('Mean Absolute Error:', metrics.mean_absolute_error(y_test, y_pred_RF))\n",
    "print('Mean Absolute % Error:', metrics.mean_absolute_percentage_error(y_test, y_pred_RF))\n",
    "print('Mean Squared Error:', metrics.mean_squared_error(y_test, y_pred_RF))\n",
    "print('Root Mean Squared Error:', np.sqrt(metrics.mean_squared_error(y_test, y_pred_RF)))\n",
    "print('R Squared (R²):', np.sqrt(metrics.r2_score(y_test, y_pred_RF)))"
   ]
  },
  {
   "cell_type": "code",
   "execution_count": 24,
   "id": "014f5841",
   "metadata": {},
   "outputs": [
    {
     "data": {
      "image/png": "[encoded data removed]",
      "text/plain": [
       "<Figure size 432x288 with 1 Axes>"
      ]
     },
     "metadata": {
      "needs_background": "light"
     },
     "output_type": "display_data"
    }
   ],
   "source": [
    "# Build scatterplot\n",
    "plt.scatter(X_test, y_test, c = 'b', alpha = 0.5, marker = '.', label = 'Real')\n",
    "plt.scatter(X_test, y_pred_RF, c = 'r', alpha = 0.5, marker = '.', label = 'Predicted')\n",
    "plt.xlabel('Carat')\n",
    "plt.ylabel('Price')\n",
    "plt.grid(color = '#D3D3D3', linestyle = 'solid')\n",
    "plt.legend(loc = 'lower right')\n",
    "plt.tight_layout()\n",
    "plt.show()"
   ]
  },
  {
   "cell_type": "code",
   "execution_count": 25,
   "id": "c9f88ea5",
   "metadata": {},
   "outputs": [
    {
     "data": {
      "text/html": [
       "<div>\n",
       "<style scoped>\n",
       "    .dataframe tbody tr th:only-of-type {\n",
       "        vertical-align: middle;\n",
       "    }\n",
       "\n",
       "    .dataframe tbody tr th {\n",
       "        vertical-align: top;\n",
       "    }\n",
       "\n",
       "    .dataframe thead th {\n",
       "        text-align: right;\n",
       "    }\n",
       "</style>\n",
       "<table border=\"1\" class=\"dataframe\">\n",
       "  <thead>\n",
       "    <tr style=\"text-align: right;\">\n",
       "      <th></th>\n",
       "      <th>Model</th>\n",
       "      <th>RMSE</th>\n",
       "      <th>R-Squared</th>\n",
       "    </tr>\n",
       "  </thead>\n",
       "  <tbody>\n",
       "    <tr>\n",
       "      <th>0</th>\n",
       "      <td>Linear Regresion model</td>\n",
       "      <td>0.520120</td>\n",
       "      <td>0.856765</td>\n",
       "    </tr>\n",
       "    <tr>\n",
       "      <th>1</th>\n",
       "      <td>Random Forest Regressor model</td>\n",
       "      <td>0.577042</td>\n",
       "      <td>0.820152</td>\n",
       "    </tr>\n",
       "  </tbody>\n",
       "</table>\n",
       "</div>"
      ],
      "text/plain": [
       "                           Model      RMSE  R-Squared\n",
       "0         Linear Regresion model  0.520120   0.856765\n",
       "1  Random Forest Regressor model  0.577042   0.820152"
      ]
     },
     "execution_count": 25,
     "metadata": {},
     "output_type": "execute_result"
    }
   ],
   "source": [
    "random_forest_metrics = pd.DataFrame([[\n",
    "\"Random Forest Regressor model\",\n",
    "np.sqrt(metrics.mean_squared_error(y_test, y_pred_RF)),\n",
    "np.sqrt(metrics.r2_score(y_test, y_pred_RF))\n",
    "]], columns = cols)\n",
    "result_tabulation = pd.concat([result_tabulation, random_forest_metrics], ignore_index=True)\n",
    "result_tabulation\n"
   ]
  },
  {
   "cell_type": "code",
   "execution_count": null,
   "id": "5b910311",
   "metadata": {},
   "outputs": [],
   "source": []
  },
  {
   "cell_type": "code",
   "execution_count": null,
   "id": "089ba41e",
   "metadata": {},
   "outputs": [],
   "source": []
  },
  {
   "cell_type": "code",
   "execution_count": null,
   "id": "aea1dd6b",
   "metadata": {},
   "outputs": [],
   "source": []
  },
  {
   "cell_type": "code",
   "execution_count": null,
   "id": "7f2fe819",
   "metadata": {},
   "outputs": [],
   "source": []
  }
 ],
 "metadata": {
  "kernelspec": {
   "display_name": "Python 3 (ipykernel)",
   "language": "python",
   "name": "python3"
  },
  "language_info": {
   "codemirror_mode": {
    "name": "ipython",
    "version": 3
   },
   "file_extension": ".py",
   "mimetype": "text/x-python",
   "name": "python",
   "nbconvert_exporter": "python",
   "pygments_lexer": "ipython3",
   "version": "3.9.7"
  }
 },
 "nbformat": 4,
 "nbformat_minor": 5
}
